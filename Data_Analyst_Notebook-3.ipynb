{
 "cells": [
  {
   "cell_type": "markdown",
   "id": "98fd1ec4-2655-4efb-9698-b85bab8cad30",
   "metadata": {
    "collapsed": false,
    "id": "98fd1ec4-2655-4efb-9698-b85bab8cad30"
   },
   "source": [
    "# Data Analyst Seepferdchen"
   ]
  },
  {
   "cell_type": "markdown",
   "id": "f1e96fc6-cc0d-4d35-9284-88d65507240d",
   "metadata": {
    "collapsed": false,
    "id": "f1e96fc6-cc0d-4d35-9284-88d65507240d"
   },
   "source": [
    "## Einführung Python"
   ]
  },
  {
   "cell_type": "code",
   "execution_count": 0,
   "id": "e5219ffa-09b1-4871-9afc-689fed4c34e3",
   "metadata": {
    "colab": {
     "base_uri": "https://localhost:8080/"
    },
    "collapsed": false,
    "id": "e5219ffa-09b1-4871-9afc-689fed4c34e3",
    "outputId": "6a868153-678e-4d52-8a8b-7e7cf77a630a"
   },
   "outputs": [
   ],
   "source": [
    "#Willkommensgruß\n",
    "print(\"Willkommen im Jupyter Notebook\")"
   ]
  },
  {
   "cell_type": "code",
   "execution_count": 0,
   "id": "d4e6274f-1c87-4b63-9164-d1d9de70bd01",
   "metadata": {
    "collapsed": false,
    "id": "d4e6274f-1c87-4b63-9164-d1d9de70bd01"
   },
   "outputs": [
   ],
   "source": [
    "# x kriegt den Wert 5 und y kriegt den Wert 6 zugewiesen\n",
    "x = 5\n",
    "y = 6"
   ]
  },
  {
   "cell_type": "code",
   "execution_count": 0,
   "id": "d57b44",
   "metadata": {
    "collapsed": false
   },
   "outputs": [
   ],
   "source": [
    "x"
   ]
  },
  {
   "cell_type": "code",
   "execution_count": 0,
   "id": "050c6741-fa93-44f7-a349-ca5b9ee6b43a",
   "metadata": {
    "collapsed": false,
    "id": "050c6741-fa93-44f7-a349-ca5b9ee6b43a"
   },
   "outputs": [
   ],
   "source": [
    "# x kriegt einen neuen Wert zugewiesen\n",
    "x = 4"
   ]
  },
  {
   "cell_type": "code",
   "execution_count": 0,
   "id": "5ead6d73-725d-492d-a855-4ad454ee10b7",
   "metadata": {
    "colab": {
     "base_uri": "https://localhost:8080/"
    },
    "collapsed": false,
    "id": "5ead6d73-725d-492d-a855-4ad454ee10b7",
    "outputId": "0c3902ad-0c7d-4306-8290-c99c79411daa"
   },
   "outputs": [
   ],
   "source": [
    "x"
   ]
  },
  {
   "cell_type": "code",
   "execution_count": 0,
   "id": "57f9784b-9e82-4d76-afda-af0f651116b3",
   "metadata": {
    "colab": {
     "base_uri": "https://localhost:8080/"
    },
    "collapsed": false,
    "id": "57f9784b-9e82-4d76-afda-af0f651116b3",
    "outputId": "235de7bb-cdc3-4789-a0df-b9cde8a8782a"
   },
   "outputs": [
   ],
   "source": [
    "x + y"
   ]
  },
  {
   "cell_type": "code",
   "execution_count": 0,
   "id": "8df63045-680e-4947-99db-f58fa8ae04fe",
   "metadata": {
    "colab": {
     "base_uri": "https://localhost:8080/"
    },
    "collapsed": false,
    "id": "8df63045-680e-4947-99db-f58fa8ae04fe",
    "outputId": "2381b495-62b7-46f2-fd25-d973bc7abeac"
   },
   "outputs": [
   ],
   "source": [
    "arr = [1, 2, 3, 2, 1]\n",
    "arr"
   ]
  },
  {
   "cell_type": "code",
   "execution_count": 0,
   "id": "4c0aac",
   "metadata": {
    "collapsed": false
   },
   "outputs": [
   ],
   "source": [
    "from numpy import max #funktion max() aus library numpy wird importiert\n",
    "max(arr)"
   ]
  },
  {
   "cell_type": "code",
   "execution_count": 0,
   "id": "db1cf4fe-863c-4952-a063-4325a03be46c",
   "metadata": {
    "collapsed": false,
    "id": "db1cf4fe-863c-4952-a063-4325a03be46c"
   },
   "outputs": [
   ],
   "source": [
    "#Importieren der Pandas Library und der Funktion randn() aus der Numpy Library\n",
    "import pandas as pd\n",
    "\n",
    "# Hier entsteht ein DataFrame mit 3 Zeilen und 3 Spalten:\n",
    "df = pd.DataFrame([[1,2,3],[4,5,6],[7,8,9]], columns=[\"A\",\"B\",\"C\"])"
   ]
  },
  {
   "cell_type": "code",
   "execution_count": 0,
   "id": "149ec466-7bb5-42d1-9e8e-fd7eec0367df",
   "metadata": {
    "colab": {
     "base_uri": "https://localhost:8080/",
     "height": 204
    },
    "collapsed": false,
    "id": "149ec466-7bb5-42d1-9e8e-fd7eec0367df",
    "outputId": "7df8af93-96f2-4411-a3bd-0821e1ae6761"
   },
   "outputs": [
   ],
   "source": [
    "df.head()"
   ]
  },
  {
   "cell_type": "code",
   "execution_count": 0,
   "id": "76789d85-d2bd-418e-9201-8197abb4519d",
   "metadata": {
    "colab": {
     "base_uri": "https://localhost:8080/",
     "height": 393
    },
    "collapsed": false,
    "id": "76789d85-d2bd-418e-9201-8197abb4519d",
    "outputId": "9c5c7dfe-5c98-4396-dd88-c360d7001bee"
   },
   "outputs": [
   ],
   "source": [
    "df[['A']]"
   ]
  },
  {
   "cell_type": "code",
   "execution_count": 0,
   "id": "d1aec674-085d-4af6-b619-a0e60878357c",
   "metadata": {
    "colab": {
     "base_uri": "https://localhost:8080/",
     "height": 359
    },
    "collapsed": false,
    "id": "d1aec674-085d-4af6-b619-a0e60878357c",
    "outputId": "c02aef1e-794c-43d1-c402-dd8c0636d533"
   },
   "outputs": [
   ],
   "source": [
    "df[['A','B']]"
   ]
  },
  {
   "cell_type": "code",
   "execution_count": 0,
   "id": "2c27f0d2-0e4c-40ae-8576-198eb6b5dd07",
   "metadata": {
    "collapsed": false,
    "id": "2c27f0d2-0e4c-40ae-8576-198eb6b5dd07"
   },
   "outputs": [
   ],
   "source": [
    "df['new'] = df['A'] + df['B'] + df['C']\n",
    "df.head()"
   ]
  },
  {
   "cell_type": "markdown",
   "id": "057e3af7-e5a5-4100-88c1-ab37b9002620",
   "metadata": {
    "collapsed": false,
    "id": "057e3af7-e5a5-4100-88c1-ab37b9002620"
   },
   "source": [
    "## Los geht's!\n",
    "\n"
   ]
  },
  {
   "cell_type": "markdown",
   "id": "57659091-f75a-4314-bc58-8fc5b59d6ce1",
   "metadata": {
    "collapsed": false,
    "id": "57659091-f75a-4314-bc58-8fc5b59d6ce1"
   },
   "source": [
    "### Erster Kontakt mit dem Datensatz"
   ]
  },
  {
   "cell_type": "code",
   "execution_count": 0,
   "id": "bd80ed",
   "metadata": {
    "collapsed": false
   },
   "outputs": [
   ],
   "source": [
    "import pandas as pd\n",
    "import numpy as np\n",
    "import seaborn as sns\n",
    "import matplotlib.pyplot as plt\n",
    "import sklearn"
   ]
  },
  {
   "cell_type": "code",
   "execution_count": 0,
   "id": "290ef01b-f0a0-44db-af78-4d5aa836a266",
   "metadata": {
    "colab": {
     "base_uri": "https://localhost:8080/",
     "height": 204
    },
    "collapsed": false,
    "id": "290ef01b-f0a0-44db-af78-4d5aa836a266",
    "outputId": "8021d48f-ba70-42a0-d1c5-65ddab1f204c"
   },
   "outputs": [
   ],
   "source": [
    "data = pd.read_csv(\"Purchasing_Behavior_FakeDataset.csv\")\n",
    "df = data\n",
    "df.head()"
   ]
  },
  {
   "cell_type": "markdown",
   "id": "7c5d2b30-f1b7-4e11-bb57-a1f7a63936ec",
   "metadata": {
    "collapsed": false,
    "id": "7c5d2b30-f1b7-4e11-bb57-a1f7a63936ec"
   },
   "source": [
    "**Unsere Aufgabe:\n",
    "Wie könnte man purchase_amount vorhersagen?**"
   ]
  },
  {
   "cell_type": "code",
   "execution_count": 0,
   "id": "abc7e477-ebbc-4a42-84e1-ce2c3a6be780",
   "metadata": {
    "colab": {
     "base_uri": "https://localhost:8080/",
     "height": 467
    },
    "collapsed": false,
    "id": "abc7e477-ebbc-4a42-84e1-ce2c3a6be780",
    "outputId": "9f002081-f7c7-43f5-d91b-76c5e3a3034f"
   },
   "outputs": [
   ],
   "source": [
    "plot_functions = ['histplot', 'scatterplot', 'barplot', 'kdeplot', 'lineplot']\n",
    "\n",
    "#sns.<plot_function>(dataframe, x=x_axis_feature, y=y_axis_feature)\n",
    "sns.lineplot(df, x=\"annual_income\", y=\"purchase_amount\")"
   ]
  },
  {
   "cell_type": "code",
   "execution_count": 0,
   "id": "bddbdcd8-a736-45ba-a344-dc4c1b00e912",
   "metadata": {
    "colab": {
     "base_uri": "https://localhost:8080/",
     "height": 1000
    },
    "collapsed": false,
    "id": "bddbdcd8-a736-45ba-a344-dc4c1b00e912",
    "outputId": "81dc427e-d7d8-4258-d286-3e1b24c3eb65"
   },
   "outputs": [
   ],
   "source": [
    "sns.pairplot(df)\n",
    "plt.show()"
   ]
  },
  {
   "cell_type": "markdown",
   "id": "28f70786-96c2-4d74-87cb-854b5c10d345",
   "metadata": {
    "collapsed": false,
    "id": "28f70786-96c2-4d74-87cb-854b5c10d345"
   },
   "source": [
    "Lege die Prädiktoren und die Target Values fest, indem du die richtigen Spalten aus unserem DataFrame (df) aussuchst."
   ]
  },
  {
   "cell_type": "code",
   "execution_count": 0,
   "id": "350bd7bf-1f18-4b7c-821f-c7b85390a4cf",
   "metadata": {
    "collapsed": false,
    "id": "350bd7bf-1f18-4b7c-821f-c7b85390a4cf"
   },
   "outputs": [
   ],
   "source": [
    "y = #Target Values\n",
    "X = #Prädiktoren"
   ]
  },
  {
   "cell_type": "code",
   "execution_count": 0,
   "id": "4bce6a99-8da5-47b0-bb74-5305a8cd9158",
   "metadata": {
    "collapsed": false,
    "id": "4bce6a99-8da5-47b0-bb74-5305a8cd9158"
   },
   "outputs": [
   ],
   "source": [
    "from sklearn.model_selection import train_test_split\n",
    "\n",
    "X_train, X_test, y_train, y_test = train_test_split(\n",
    "    X, y, test_size=0.2, random_state=42)\n",
    "\n",
    "#was macht train_test_split?"
   ]
  },
  {
   "cell_type": "markdown",
   "id": "920eb4fb-86f7-4937-8025-4b743c062d82",
   "metadata": {
    "collapsed": false,
    "id": "920eb4fb-86f7-4937-8025-4b743c062d82"
   },
   "source": [
    "### Training\n",
    "\n"
   ]
  },
  {
   "cell_type": "code",
   "execution_count": 0,
   "id": "eca28d2a-b6e5-453d-aa0e-8e7ac0918f71",
   "metadata": {
    "colab": {
     "base_uri": "https://localhost:8080/",
     "height": 80
    },
    "collapsed": false,
    "id": "eca28d2a-b6e5-453d-aa0e-8e7ac0918f71",
    "outputId": "04ef8306-1630-442a-fb47-7e67908cb20d"
   },
   "outputs": [
   ],
   "source": [
    "from sklearn.linear_model import LinearRegression\n",
    "\n",
    "model = LinearRegression()\n",
    "#model ist eine Instanz der Klasse LinearRegression()\n",
    "#die Klasse hat eine Funktion fit()\n",
    "#Mit model.fit(<Prädiktoren>, <Target Values>) kannst du das Modell trainieren"
   ]
  },
  {
   "cell_type": "markdown",
   "id": "edb5918f-e0cc-491b-8d8e-7f3501872006",
   "metadata": {
    "collapsed": false,
    "id": "edb5918f-e0cc-491b-8d8e-7f3501872006"
   },
   "source": [
    "### Testing / Evaluation\n",
    "\n"
   ]
  },
  {
   "cell_type": "code",
   "execution_count": 0,
   "id": "7ea83155-df93-40e3-aec0-c744314d7db0",
   "metadata": {
    "collapsed": false,
    "id": "7ea83155-df93-40e3-aec0-c744314d7db0"
   },
   "outputs": [
   ],
   "source": [
    "#erstelle eine Variable y_pred, die model.predict(<Prädiktoren>) zugewiesen bekommt"
   ]
  },
  {
   "cell_type": "markdown",
   "id": "c74b2ae8-3185-4fae-a597-558f14840de4",
   "metadata": {
    "collapsed": false,
    "id": "c74b2ae8-3185-4fae-a597-558f14840de4"
   },
   "source": [
    "R² und Wurzel der Residuenquadratsumme / Root Mean Squared Error (RMSE)"
   ]
  },
  {
   "cell_type": "code",
   "execution_count": 0,
   "id": "f497ebd2-81d8-40c6-a1e2-5688577f0b7d",
   "metadata": {
    "colab": {
     "base_uri": "https://localhost:8080/"
    },
    "collapsed": false,
    "id": "f497ebd2-81d8-40c6-a1e2-5688577f0b7d",
    "outputId": "36f0065a-abb0-46ae-a7be-a02f680eb760"
   },
   "outputs": [
   ],
   "source": [
    "from sklearn.metrics import root_mean_squared_error\n",
    "\n",
    "rmse = root_mean_squared_error(y_test, y_pred)\n",
    "print('rmse: ', rmse)\n",
    "\n",
    "#rmse ist die durchschnittliche Abweichung zur Regressionsgraden. Was braucht man, um diesen Wert gut einzuschätzen?"
   ]
  },
  {
   "cell_type": "code",
   "execution_count": 0,
   "id": "97ebb244-2780-4ad4-8788-f72c959c8b13",
   "metadata": {
    "colab": {
     "base_uri": "https://localhost:8080/",
     "height": 173
    },
    "collapsed": false,
    "id": "97ebb244-2780-4ad4-8788-f72c959c8b13",
    "outputId": "77fb43d8-394c-4c53-f5ff-62c159124eb9"
   },
   "outputs": [
   ],
   "source": [
    "pd.DataFrame({'Prädiktor':X.columns, 'Koeffizient':model.coef_[0]})"
   ]
  },
  {
   "cell_type": "markdown",
   "id": "500cebab-9ea2-4ea5-81ce-19945e5c101a",
   "metadata": {
    "collapsed": false,
    "id": "500cebab-9ea2-4ea5-81ce-19945e5c101a"
   },
   "source": [
    "Warum hat annual_income einen größeren Einfluss als age?\n",
    "\n",
    "\n"
   ]
  },
  {
   "cell_type": "code",
   "execution_count": 0,
   "id": "8c35011a-7ab2-43cd-af75-2b6ff3373d0e",
   "metadata": {
    "colab": {
     "base_uri": "https://localhost:8080/",
     "height": 204
    },
    "collapsed": false,
    "id": "8c35011a-7ab2-43cd-af75-2b6ff3373d0e",
    "outputId": "7808eedc-78e1-41f1-a836-7aacba8f50ca"
   },
   "outputs": [
   ],
   "source": [
    "df.head()"
   ]
  },
  {
   "cell_type": "markdown",
   "id": "473177f6-e1cf-4c89-a5e2-36b7530caf6a",
   "metadata": {
    "collapsed": false,
    "id": "473177f6-e1cf-4c89-a5e2-36b7530caf6a"
   },
   "source": [
    "## \\-\\-\\-\n",
    "\n"
   ]
  },
  {
   "cell_type": "code",
   "execution_count": 0,
   "id": "0eb1d6d0-f68b-43ef-90e8-2fcfd4556ab7",
   "metadata": {
    "colab": {
     "base_uri": "https://localhost:8080/",
     "height": 204
    },
    "collapsed": false,
    "id": "0eb1d6d0-f68b-43ef-90e8-2fcfd4556ab7",
    "outputId": "7e712b4b-b4b1-4a48-8f84-1b3edc793ab6"
   },
   "outputs": [
   ],
   "source": [
    "from sklearn.preprocessing import MinMaxScaler\n",
    "\n",
    "scaler = MinMaxScaler()\n",
    "scaled_df = data.drop([\"region\"], axis=1)\n",
    "scaled_df = pd.DataFrame(scaler.fit_transform(scaled_df), columns=scaled_df.columns)\n",
    "scaled_df.head()"
   ]
  },
  {
   "cell_type": "code",
   "execution_count": 0,
   "id": "R-3Ph74WmUnL",
   "metadata": {
    "collapsed": false,
    "id": "R-3Ph74WmUnL"
   },
   "outputs": [
   ],
   "source": [
   ]
  },
  {
   "cell_type": "markdown",
   "id": "ccbe9ef9-abe6-4159-987b-a29ffb5e9e30",
   "metadata": {
    "collapsed": false,
    "id": "ccbe9ef9-abe6-4159-987b-a29ffb5e9e30"
   },
   "source": [
    "Residuen Plot"
   ]
  },
  {
   "cell_type": "code",
   "execution_count": 0,
   "id": "0b38006c-b6c7-4136-afb9-33e292295202",
   "metadata": {
    "colab": {
     "base_uri": "https://localhost:8080/",
     "height": 204
    },
    "collapsed": false,
    "id": "0b38006c-b6c7-4136-afb9-33e292295202",
    "outputId": "84a9e5f9-1b59-4460-c238-3550ce71bb56"
   },
   "outputs": [
   ],
   "source": [
    "d = pd.DataFrame({\"y_test\": y_test, \"y_pred\": y_pred})\n",
    "d.head()"
   ]
  },
  {
   "cell_type": "code",
   "execution_count": 0,
   "id": "2uPXxkGHkXmY",
   "metadata": {
    "colab": {
     "base_uri": "https://localhost:8080/",
     "height": 663
    },
    "collapsed": false,
    "id": "2uPXxkGHkXmY",
    "outputId": "dfcd5dcf-2113-45b1-ae01-6a1a0c6923a1"
   },
   "outputs": [
   ],
   "source": [
    "residuen = #berechne die Residuen (nutze DataFrame d)\n",
    "\n",
    "#plotte die Residuen mit einem geeigneten plot\n",
    "#sns.<plot_function>(residuen)\n",
    "\n",
    "plt.xticks(rotation=90) #Rotiert nur die Beschriftung der X-Achse\n",
    "residuen.head()"
   ]
  }
 ],
 "metadata": {
  "colab": {
   "provenance": [
   ]
  },
  "kernelspec": {
   "argv": [
    "/usr/bin/python3",
    "-m",
    "ipykernel",
    "--HistoryManager.enabled=False",
    "--matplotlib=inline",
    "-c",
    "%config InlineBackend.figure_formats = set(['retina'])\nimport matplotlib; matplotlib.rcParams['figure.figsize'] = (12, 7)",
    "-f",
    "{connection_file}"
   ],
   "display_name": "Python 3 (system-wide)",
   "env": {
   },
   "language": "python",
   "metadata": {
    "cocalc": {
     "description": "Python 3 programming language",
     "priority": 100,
     "url": "https://www.python.org/"
    }
   },
   "name": "python3",
   "resource_dir": "/ext/jupyter/kernels/python3"
  },
  "language_info": {
   "codemirror_mode": {
    "name": "ipython",
    "version": 3
   },
   "file_extension": ".py",
   "mimetype": "text/x-python",
   "name": "python",
   "nbconvert_exporter": "python",
   "pygments_lexer": "ipython3",
   "version": "3.10.12"
  }
 },
 "nbformat": 4,
 "nbformat_minor": 4
}